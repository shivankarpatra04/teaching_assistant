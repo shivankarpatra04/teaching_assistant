{
 "cells": [
  {
   "cell_type": "code",
   "execution_count": 11,
   "id": "c9f8d17c-d95a-4347-864c-75c771d96a61",
   "metadata": {},
   "outputs": [],
   "source": [
    "from langchain_core.prompts import ChatPromptTemplate\n",
    "from langchain_core.output_parsers import StrOutputParser\n",
    "import google.generativeai as genai\n",
    "from langchain_google_genai import ChatGoogleGenerativeAI\n",
    "from dotenv import load_dotenv\n",
    "import os"
   ]
  },
  {
   "cell_type": "code",
   "execution_count": 18,
   "id": "9059883c-6d8c-469b-9559-d2f38f6d0c89",
   "metadata": {},
   "outputs": [],
   "source": [
    "load_dotenv()\n",
    "GOOGLE_API_KEY= os.getenv('GOOGLE_API_KEY')\n",
    "genai.configure(api_key=GOOGLE_API_KEY)"
   ]
  },
  {
   "cell_type": "code",
   "execution_count": 20,
   "id": "00656b32-46cd-4b65-b0ad-68ae36351766",
   "metadata": {},
   "outputs": [
    {
     "name": "stdout",
     "output_type": "stream",
     "text": [
      "**Natural Language Processing (NLP)**\n",
      "\n",
      "* **Text Summarization:** Generating concise summaries of long documents or texts.\n",
      "* **Language Translation:** Translating text from one language to another.\n",
      "* **Question Answering:** Answering questions based on a given context.\n",
      "* **Text Generation:** Creating novel text, such as stories, poems, or code.\n",
      "* **Chatbots:** Engaging in natural language conversations with users.\n",
      "\n",
      "**Healthcare**\n",
      "\n",
      "* **Medical Diagnosis:** Assisting doctors in diagnosing diseases based on patient data.\n",
      "* **Drug Discovery:** Identifying potential drug candidates and predicting their efficacy.\n",
      "* **Personalized Treatment:** Recommending personalized treatment plans based on individual patient profiles.\n",
      "* **Medical Research:** Analyzing large volumes of medical data to uncover patterns and insights.\n",
      "\n",
      "**Finance**\n",
      "\n",
      "* **Financial Forecasting:** Predicting future financial performance based on historical data.\n",
      "* **Risk Assessment:** Evaluating the risk associated with financial decisions.\n",
      "* **Fraud Detection:** Identifying suspicious financial transactions and preventing fraud.\n",
      "* **Customer Segmentation:** Segmenting customers based on their financial behavior and preferences.\n",
      "\n",
      "**E-commerce**\n",
      "\n",
      "* **Product Recommendation:** Suggesting products to customers based on their browsing history and preferences.\n",
      "* **Personalized Marketing:** Tailoring marketing campaigns to individual customers' needs.\n",
      "* **Customer Service:** Automating customer support tasks and resolving inquiries.\n",
      "* **Price Optimization:** Determining optimal pricing strategies to maximize revenue.\n",
      "\n",
      "**Education**\n",
      "\n",
      "* **Personalized Learning:** Adapting educational content and assessments to each student's needs.\n",
      "* **Essay Grading:** Automatically grading essays and providing feedback to students.\n",
      "* **Language Learning:** Assisting students in learning new languages.\n",
      "* **Educational Research:** Analyzing educational data to improve teaching methods and learning outcomes.\n",
      "\n",
      "**Other Use Cases**\n",
      "\n",
      "* **Code Generation:** Generating code snippets or entire programs.\n",
      "* **Image Captioning:** Describing images with natural language.\n",
      "* **Social Media Analysis:** Monitoring and analyzing social media trends and sentiment.\n",
      "* **Customer Support:** Providing automated customer support through chatbots.\n",
      "* **Legal Document Review:** Identifying potential legal issues in contracts and other documents.\n"
     ]
    }
   ],
   "source": [
    "llm = ChatGoogleGenerativeAI(model=\"gemini-pro\",google_api_key=GOOGLE_API_KEY)\n",
    "result = llm.invoke(\"What are the usecases of LLMs?\")\n",
    "print(result.content)"
   ]
  },
  {
   "cell_type": "code",
   "execution_count": 21,
   "id": "578b59fc-cd4d-4106-b4e1-8c163482395d",
   "metadata": {},
   "outputs": [],
   "source": [
    "prompt = ChatPromptTemplate.from_template(\n",
    "    \"you are a professional {profession}, explain me about {topic} in {words} words with {radio_button} for {profession} {radio_button2}\"\n",
    ") # radio_button = real world example / code, radio_button2 = assingnment/interview/exam"
   ]
  },
  {
   "cell_type": "code",
   "execution_count": 22,
   "id": "1e78fc4a-de65-49b9-af4d-9abe79762171",
   "metadata": {},
   "outputs": [],
   "source": [
    "output_parser=StrOutputParser()"
   ]
  },
  {
   "cell_type": "code",
   "execution_count": 23,
   "id": "828d7033-79ed-42c9-9765-dd79a70fe3ae",
   "metadata": {},
   "outputs": [],
   "source": [
    "chain=prompt|llm|output_parser"
   ]
  },
  {
   "cell_type": "code",
   "execution_count": 25,
   "id": "bc1eb104-f819-4617-a7e5-4b9287176dd9",
   "metadata": {},
   "outputs": [
    {
     "data": {
      "text/plain": [
       "'NLP empowers computers to comprehend and process human language, bridging the gap between machine and human communication. It involves tasks like sentiment analysis, text classification, and machine translation.\\n\\n```python\\n# Sentiment analysis using NLTK\\nfrom nltk.sentiment.vader import SentimentIntensityAnalyzer\\nanalyzer = SentimentIntensityAnalyzer()\\nscore = analyzer.polarity_scores(\"This movie was great!\")\\nprint(score)\\n```'"
      ]
     },
     "execution_count": 25,
     "metadata": {},
     "output_type": "execute_result"
    }
   ],
   "source": [
    "chain.invoke({\"profession\": \"Data Scientist\", \"topic\": \"NLP\", \"words\": 50, \"radio_button\": \"code\", \"radio_button2\":\"interview\" })"
   ]
  },
  {
   "cell_type": "code",
   "execution_count": null,
   "id": "2fa0238f-3b90-44c4-a006-8f633af2ed92",
   "metadata": {},
   "outputs": [],
   "source": []
  }
 ],
 "metadata": {
  "kernelspec": {
   "display_name": "Python 3 (ipykernel)",
   "language": "python",
   "name": "python3"
  },
  "language_info": {
   "codemirror_mode": {
    "name": "ipython",
    "version": 3
   },
   "file_extension": ".py",
   "mimetype": "text/x-python",
   "name": "python",
   "nbconvert_exporter": "python",
   "pygments_lexer": "ipython3",
   "version": "3.12.4"
  }
 },
 "nbformat": 4,
 "nbformat_minor": 5
}
